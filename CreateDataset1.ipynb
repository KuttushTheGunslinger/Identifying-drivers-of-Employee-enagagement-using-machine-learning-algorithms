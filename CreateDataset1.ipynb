{
 "cells": [
  {
   "cell_type": "code",
   "execution_count": 1,
   "id": "14aa628e",
   "metadata": {},
   "outputs": [
    {
     "name": "stdout",
     "output_type": "stream",
     "text": [
      "Saving images...\n"
     ]
    },
    {
     "name": "stderr",
     "output_type": "stream",
     "text": [
      "100%|██████████| 35887/35887 [04:19<00:00, 138.31it/s]\n"
     ]
    },
    {
     "name": "stdout",
     "output_type": "stream",
     "text": [
      "done\n"
     ]
    },
    {
     "ename": "ImportError",
     "evalue": "cannot import name 'array_to_img' from 'keras.preprocessing.image' (C:\\Users\\ritam\\anaconda3\\lib\\site-packages\\keras\\preprocessing\\image.py)",
     "output_type": "error",
     "traceback": [
      "\u001b[1;31m---------------------------------------------------------------------------\u001b[0m",
      "\u001b[1;31mImportError\u001b[0m                               Traceback (most recent call last)",
      "Cell \u001b[1;32mIn[1], line 101\u001b[0m\n\u001b[0;32m     97\u001b[0m             neutral_test \u001b[38;5;241m+\u001b[39m\u001b[38;5;241m=\u001b[39m \u001b[38;5;241m1\u001b[39m\n\u001b[0;32m     99\u001b[0m \u001b[38;5;28mprint\u001b[39m(\u001b[38;5;124m\"\u001b[39m\u001b[38;5;124mdone\u001b[39m\u001b[38;5;124m\"\u001b[39m)\n\u001b[1;32m--> 101\u001b[0m \u001b[38;5;28;01mfrom\u001b[39;00m \u001b[38;5;21;01mkeras\u001b[39;00m\u001b[38;5;21;01m.\u001b[39;00m\u001b[38;5;21;01mpreprocessing\u001b[39;00m\u001b[38;5;21;01m.\u001b[39;00m\u001b[38;5;21;01mimage\u001b[39;00m \u001b[38;5;28;01mimport\u001b[39;00m ImageDataGenerator, array_to_img, img_to_array, load_img\n\u001b[0;32m    102\u001b[0m datagen \u001b[38;5;241m=\u001b[39m ImageDataGenerator(rotation_range \u001b[38;5;241m=\u001b[39m\u001b[38;5;241m15\u001b[39m, \n\u001b[0;32m    103\u001b[0m                          width_shift_range \u001b[38;5;241m=\u001b[39m \u001b[38;5;241m0.2\u001b[39m, \n\u001b[0;32m    104\u001b[0m                          height_shift_range \u001b[38;5;241m=\u001b[39m \u001b[38;5;241m0.2\u001b[39m,  \n\u001b[1;32m   (...)\u001b[0m\n\u001b[0;32m    110\u001b[0m                          data_format\u001b[38;5;241m=\u001b[39m\u001b[38;5;124m'\u001b[39m\u001b[38;5;124mchannels_last\u001b[39m\u001b[38;5;124m'\u001b[39m, \n\u001b[0;32m    111\u001b[0m                          brightness_range\u001b[38;5;241m=\u001b[39m[\u001b[38;5;241m0.5\u001b[39m, \u001b[38;5;241m1.5\u001b[39m])\n",
      "\u001b[1;31mImportError\u001b[0m: cannot import name 'array_to_img' from 'keras.preprocessing.image' (C:\\Users\\ritam\\anaconda3\\lib\\site-packages\\keras\\preprocessing\\image.py)"
     ]
    }
   ],
   "source": [
    "import numpy as np\n",
    "import pandas as pd\n",
    "from PIL import Image\n",
    "from tqdm import tqdm\n",
    "import os\n",
    "\n",
    "\n",
    "def atoi(s):\n",
    "    n = 0\n",
    "    for i in s:\n",
    "        n = n * 10 + ord(i) - ord(\"0\")\n",
    "    return n\n",
    "\n",
    "\n",
    "outer_names = ['test', 'train']\n",
    "inner_names = ['angry', 'disgusted', 'fearful', 'happy', 'sad', 'surprised', 'neutral']\n",
    "os.makedirs('data', exist_ok=True)\n",
    "for outer_name in outer_names:\n",
    "    os.makedirs(os.path.join('data', outer_name), exist_ok=True)\n",
    "    for inner_name in inner_names:\n",
    "        os.makedirs(os.path.join('data', outer_name, inner_name), exist_ok=True)\n",
    "\n",
    "angry = 0\n",
    "disgusted = 0\n",
    "fearful = 0\n",
    "happy = 0\n",
    "sad = 0\n",
    "surprised = 0\n",
    "neutral = 0\n",
    "angry_test = 0\n",
    "disgusted_test = 0\n",
    "fearful_test = 0\n",
    "happy_test = 0\n",
    "sad_test = 0\n",
    "surprised_test = 0\n",
    "neutral_test = 0\n",
    "\n",
    "df = pd.read_csv('./fer2013.csv')\n",
    "mat = np.zeros((48, 48), dtype=np.uint8)\n",
    "print(\"Saving images...\")\n",
    "\n",
    "for i in tqdm(range(len(df))):\n",
    "    txt = df['pixels'][i]\n",
    "    words = txt.split()\n",
    "\n",
    "    for j in range(2304):\n",
    "        xind = j // 48\n",
    "        yind = j % 48\n",
    "        mat[xind][yind] = atoi(words[j])\n",
    "\n",
    "    img = Image.fromarray(mat)\n",
    "\n",
    "    if i < 28709:\n",
    "        if df['emotion'][i] == 0:\n",
    "            img.save('data/train/angry/im' + str(angry) + '.png')\n",
    "            angry += 1\n",
    "        elif df['emotion'][i] == 1:\n",
    "            img.save('data/train/disgusted/im' + str(disgusted) + '.png')\n",
    "            disgusted += 1\n",
    "        elif df['emotion'][i] == 2:\n",
    "            img.save('data/train/fearful/im' + str(fearful) + '.png')\n",
    "            fearful += 1\n",
    "        elif df['emotion'][i] == 3:\n",
    "            img.save('data/train/happy/im' + str(happy) + '.png')\n",
    "            happy += 1\n",
    "        elif df['emotion'][i] == 4:\n",
    "            img.save('data/train/sad/im' + str(sad) + '.png')\n",
    "            sad += 1\n",
    "        elif df['emotion'][i] == 5:\n",
    "            img.save('data/train/surprised/im' + str(surprised) + '.png')\n",
    "            surprised += 1\n",
    "        elif df['emotion'][i] == 6:\n",
    "            img.save('data/train/neutral/im' + str(neutral) + '.png')\n",
    "            neutral += 1\n",
    "\n",
    "    else:\n",
    "        if df['emotion'][i] == 0:\n",
    "            img.save('data/test/angry/im' + str(angry_test) + '.png')\n",
    "            angry_test += 1\n",
    "        elif df['emotion'][i] == 1:\n",
    "            img.save('data/test/disgusted/im' + str(disgusted_test) + '.png')\n",
    "            disgusted_test += 1\n",
    "        elif df['emotion'][i] == 2:\n",
    "            img.save('data/test/fearful/im' + str(fearful_test) + '.png')\n",
    "            fearful_test += 1\n",
    "        elif df['emotion'][i] == 3:\n",
    "            img.save('data/test/happy/im' + str(happy_test) + '.png')\n",
    "            happy_test += 1\n",
    "        elif df['emotion'][i] == 4:\n",
    "            img.save('data/test/sad/im' + str(sad_test) + '.png')\n",
    "            sad_test += 1\n",
    "        elif df['emotion'][i] == 5:\n",
    "            img.save('data/test/surprised/im' + str(surprised_test) + '.png')\n",
    "            surprised_test += 1\n",
    "        elif df['emotion'][i] == 6:\n",
    "            img.save('data/test/neutral/im' + str(neutral_test) + '.png')\n",
    "            neutral_test += 1\n",
    "\n",
    "print(\"done\")"
   ]
  },
  {
   "cell_type": "code",
   "execution_count": 12,
   "id": "557683f5",
   "metadata": {},
   "outputs": [
    {
     "name": "stdout",
     "output_type": "stream",
     "text": [
      "C:/Users/ritam/Downloads/PA/data/train/angry\n",
      "C:/Users/ritam/Downloads/PA/data/train/disgusted\n",
      "C:/Users/ritam/Downloads/PA/data/train/fearful\n",
      "C:/Users/ritam/Downloads/PA/data/train/happy\n",
      "C:/Users/ritam/Downloads/PA/data/train/sad\n",
      "C:/Users/ritam/Downloads/PA/data/train/surprised\n",
      "C:/Users/ritam/Downloads/PA/data/train/neutral\n"
     ]
    }
   ],
   "source": [
    "import cv2\n",
    "import glob\n",
    "from tensorflow.keras.utils import img_to_array\n",
    "\n",
    "datagen = ImageDataGenerator(rotation_range =15, \n",
    "                         width_shift_range = 0.2, \n",
    "                         height_shift_range = 0.2,  \n",
    "                         rescale=1./255, \n",
    "                         shear_range=0.2, \n",
    "                         zoom_range=0.2, \n",
    "                         horizontal_flip = True, \n",
    "                         fill_mode = 'nearest', \n",
    "                         data_format='channels_last', \n",
    "                         brightness_range=[0.5, 1.5]) \n",
    "\n",
    "for e in list(['angry', 'disgusted', 'fearful', 'happy', 'sad', 'surprised', 'neutral']):\n",
    "    img_dir = \"C:/Users/ritam/Downloads/PA/data/train/\" + e\n",
    "    print(img_dir)\n",
    "    data_path = os.path.join(img_dir,'*g')\n",
    "    files = glob.glob(data_path)\n",
    "    data = []\n",
    "    for f1 in files:\n",
    "        img = cv2.imread(f1)\n",
    "        data.append(img)\n",
    "\n",
    "    x = img_to_array(img)\n",
    "    x = x.reshape((1,) + x.shape)\n",
    "\n",
    "    i = 0\n",
    "    path, dirs, files = next(os.walk(img_dir))\n",
    "    file_count = len(files) #to find number of files in folder\n",
    "\n",
    "    for batch in datagen.flow (x, batch_size=1, save_to_dir =img_dir, save_prefix=\"a\",save_format='jpg'):\n",
    "        i+=1\n",
    "        if i==file_count:\n",
    "            break\n"
   ]
  },
  {
   "cell_type": "code",
   "execution_count": null,
   "id": "5b3a5100",
   "metadata": {},
   "outputs": [],
   "source": []
  }
 ],
 "metadata": {
  "kernelspec": {
   "display_name": "Python 3 (ipykernel)",
   "language": "python",
   "name": "python3"
  },
  "language_info": {
   "codemirror_mode": {
    "name": "ipython",
    "version": 3
   },
   "file_extension": ".py",
   "mimetype": "text/x-python",
   "name": "python",
   "nbconvert_exporter": "python",
   "pygments_lexer": "ipython3",
   "version": "3.10.9"
  }
 },
 "nbformat": 4,
 "nbformat_minor": 5
}
